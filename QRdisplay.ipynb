{
 "cells": [
  {
   "cell_type": "markdown",
   "id": "2833e746",
   "metadata": {},
   "source": [
    "# QR Code Creator\n",
    "\n",
    "Have you ever had friends or family over to your place, and they want to know your Wifi password? Make your parties easier with this code. Simply:\n",
    "\n",
    "1. Open the WifiPassword.json file and enter in your Wifi name, Password and the security, then \n",
    "1. Run the code below. This will display on the screen.\n",
    "1. Right click and run to a new tab on Google, then broadcast on your TV or screen, for others to scan.\n",
    "1. Run the cell after to save to a png image, so you can add to documation or Photoshop.\n",
    "\n",
    "And now you don't have to recite the same random letters and numbers over and over again. Enjoy. :)"
   ]
  },
  {
   "cell_type": "markdown",
   "id": "3990080a",
   "metadata": {},
   "source": [
    "### Display QR Code\n",
    "\n",
    "Run this cell to create and display the QR Code"
   ]
  },
  {
   "cell_type": "code",
   "execution_count": null,
   "id": "8c4cc6af",
   "metadata": {},
   "outputs": [],
   "source": [
    "from myclassWifi import CreateQRCode\n",
    "newQrCode = CreateQRCode()\n",
    "display(newQrCode.returnforDisplay())"
   ]
  },
  {
   "cell_type": "markdown",
   "id": "3e8284ed",
   "metadata": {},
   "source": [
    "### Image saver\n",
    "\n",
    "Run this to save the QR code to an image (Seperate cell because it's optional)"
   ]
  },
  {
   "cell_type": "code",
   "execution_count": null,
   "id": "042c8fa3",
   "metadata": {},
   "outputs": [],
   "source": [
    "newQrCode.saveimage()"
   ]
  }
 ],
 "metadata": {
  "kernelspec": {
   "display_name": "Python 3 (ipykernel)",
   "language": "python",
   "name": "python3"
  },
  "language_info": {
   "codemirror_mode": {
    "name": "ipython",
    "version": 3
   },
   "file_extension": ".py",
   "mimetype": "text/x-python",
   "name": "python",
   "nbconvert_exporter": "python",
   "pygments_lexer": "ipython3",
   "version": "3.10.4"
  }
 },
 "nbformat": 4,
 "nbformat_minor": 5
}
